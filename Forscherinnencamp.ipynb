{
 "cells": [
  {
   "cell_type": "markdown",
   "metadata": {
    "id": "1kgCA1XgOlQY"
   },
   "source": [
    "# Forscherinnencamp @ FAU & Siemens\n",
    "\n",
    "# Teil 1: Eine Einführung in Python\n",
    "## Einführung\n",
    "Während der folgenden 60 Min. wollen wir euch eine kleine Einführung in die **Programmiersprache Python** geben. Mit Programmiersprachen können wir dem Computer Anweisungen geben, welche Operationen, also z.B. welche Berechnungen oder welche Ausgaben, er ausführen soll.\n",
    "\n",
    "### iPython-Notebooks\n",
    "Hierzu schauen wir uns verschiedene Aspekte in sogenannten iPhython-Notebooks an. In diesen Notebooks gibt es zwei unterschiedliche Arten von Feldern: **Markdown**-Felder, die Erklärungen & Text enthalten, sowie **Code**-Felder, in denen ihr Programmanweisung tippen oder ändern und anschließend ausführen könnt.  \n",
    "Ihr könnt ein **Code**-Feld ausführen, indem ihr entweder auf den Run-Button (mit dem Play-Zeichen) auf der linken Seite des Feldes drückt oder mit der Tastenkombination `Strg+Eingabe` (`⌘ + Eingabe` auf Apple Macs).\n",
    "\n",
    "**Ein kleiner Hinweis**: Wir haben die Aufgaben mit einem (\\*) oder zwei (\\*\\*) Sternen markiert, um Aufgaben für Einsteiger\\*innen und Fortgeschrittene zu kennzeichnen. Wenn ihr erst mit dem Programmieren startet, ist es okay, die (\\*\\*)-Aufgaben erstmal zu überspringen und später zu ihnen zurückzukommen.\n",
    "\n",
    "Fangt einfach an, Ziel ist es erstmal, sich mit der Programmiersprache bekannt zu machen - und meldet euch, wenn ihr Fragen habt! Dafür sind wir da :)\n",
    "\n",
    "Wenn ihr heute nicht alle Aufgaben in der nächsten Stunde lösen könnt, ist das kein Problem. Da ihr jeweils einen anderen Wissensstand habt, möchten wir euch hier die Gelegenheit geben, euch mit Python vertraut zu machen.\n",
    "\n",
    "## Los geht's und viel Spaß!"
   ]
  },
  {
   "cell_type": "markdown",
   "metadata": {
    "id": "cmaGGKE2SdWd"
   },
   "source": [
    "## Aufgabe 1: Hello World\n",
    "Wir fangen mit einem Standardproblem an: Der Ausgabe von Text. Wir möchten den Computer dazu bringen, uns einen bestimmten Text anzuzeigen.\n",
    "\n",
    "Hierzu müssen wir zwei Dinge wissen:\n",
    "1.   Ein Computer unterscheidet zwischen Programmcode und sog. *Strings* (= Zeichenketten), mit denen z.B. (Fließ-)Text oder Namen dargestellt werden können. Damit der Computer weiß, ob es sich bei einer bestimmten Folge von Buchstaben um eine Anweisung oder um einen *String* handelt, werden *Strings* in Anführungszeichen gesetzt. Deshalb müssen wir z.B. `\"Katharina\"` oder `\"Elisabeth\"` schreiben, wenn wir unsere Namen als Text kodieren wollen.\n",
    "2.   Um dem Computer Anweisungen zu geben, können wir sog. *Funktionen* verwenden. Die sind normalerweise wie folgt aufgebaut:\n",
    "`functionname(parameter)`  \n",
    "Hierbei ist `functionname` die Bezeichnung der *Funktion* und `parameter` sind bestimmte Werte (oder Variablen), mit denen etwas innerhalb dieser *Funktion* passieren soll. \n",
    "\n",
    "Ein Beispiel: die *Funktion* `print(parameter)` (engl. für drucken) erlaubt es, *Strings* auszugeben, die der *Funktion* als Parameter übergeben werden. \n",
    "\n",
    "**Eure Aufgabe**: Versucht mal, dass Euch der Computer mit einer kleinen Ausgabe begrüßt. Informatiker\\*innen lassen den Computer hierbei gerne `\"hello world\"` sagen. Klickt in die folgende Code-Zelle und nutzt die `print`-Funktion. Führt die Zeile aus, indem ihr auf den \"Run\"-Button (mit dem Play-Zeichen) klickt oder mit `Strg+Eingabe`.    \n",
    "Versucht ihn danach, weitere Zeichenfolgen ausgeben zu lassen oder z.B. euch persönlich zu begrüßen.\n",
    "\n",
    "In dem Code-Feld siehst Du bereits etwas geschrieben. Einen sog. **Kommentar**: Mit der `#` zu Beginn der Zeile können einzelne Zeilen aus dem Programm \"herausgenommen\" werden. Diese Zeilen werden bei der Ausführung des Programmes ignoriert - sie sind nur für die Programmierenden gedacht. Schreibt eure Anweisung einfach in die nächste Zeile."
   ]
  },
  {
   "cell_type": "code",
   "execution_count": null,
   "metadata": {
    "collapsed": true,
    "id": "-4V_uwytOkVO"
   },
   "outputs": [],
   "source": [
    "# Schreibt euren Code in nächste Zeile nach diesem Kommentar\n",
    "\n"
   ]
  },
  {
   "cell_type": "markdown",
   "metadata": {
    "id": "fr56sz7ID5PD"
   },
   "source": [
    "## Aufgabe 2: Variablen und Rechnen in Python\n",
    "\n",
    "Um sinnvolle Programme zu entwickeln, ist es wichtig, dass (Zwischen-)Berechnungen und Werte in sog. Variablen abgelegt werden können. In Python geht das ganz einfach: Wir definieren eine Variable und weisen ihr einen Wert zu:\n",
    "\n",
    "Drückt \"Run\" oder klickt in die Zelle und dann `Strg+Eingabe` um die Code-Zeile auszuführen."
   ]
  },
  {
   "cell_type": "code",
   "execution_count": null,
   "metadata": {
    "collapsed": true,
    "id": "MpRHkhY8aU8f"
   },
   "outputs": [],
   "source": [
    "# Beispiel: Zuweisung\n",
    "x = 5\n",
    "x"
   ]
  },
  {
   "cell_type": "markdown",
   "metadata": {
    "id": "ePt0PCuLaYCu"
   },
   "source": [
    "In obigem Beispiel definieren wir eine Variable `x` und weisen ihr den Wert 5 zu. Wenn wir nur `x` schreiben, wird der Wert von `x` in der Ausgabe angezeigt (ähnlich wie bei `print` oben). Allerdings betrifft dies immer nur die _letzte_ Anweisung. Wenn ihr mehrere Ausgaben sehen möchtet, müsst ihr `print`-Anweisungen verwenden!\n",
    "\n",
    "Mit der Variablen `x` können wir nun weiter rechnen: \n",
    "(Führt wiederum die nächste Code-Zeile aus)"
   ]
  },
  {
   "cell_type": "code",
   "execution_count": null,
   "metadata": {
    "collapsed": true,
    "id": "lqWspTK-X9Ee"
   },
   "outputs": [],
   "source": [
    "# Einfache Rechnung\n",
    "erg = 2 * x + 10\n",
    "erg"
   ]
  },
  {
   "cell_type": "markdown",
   "metadata": {
    "id": "hZq8pWFCb5-f"
   },
   "source": [
    "Hier weisen wir nun der neuen Variablen `erg` den Wert der Berechnung `2 * x + 10` zu. Variablennamen können also durchaus aus mehreren Zeichen bestehen.\n",
    "\n",
    "Ihr seht hier, dass die Variable `x`, die wir oben definiert haben, weiter benutzt werden kann. Ihr könnt ihr auch einen neuen Wert zuweisen, indem ihr einfach erneut den Zuweisungsbefehl verwendet.\n",
    "\n",
    "Die Operatoren für die Grundrechenarten sind wie folgt:  \n",
    "`+` (Addition)  \n",
    "`-` (Subtraktion)  \n",
    "`*` (Multiplikation)  \n",
    "`/` (Division)\n",
    "\n",
    "Außerdem brauchen wir noch  \n",
    "`**` (Potenzierung)  \n",
    "Der Doppelstern ermöglicht es, a \"hoch\" b mit `a ** b` zu berechnen. \n",
    "\n",
    "_Hinweis 1_: Achtung: Punkt-vor-Strich-Rechnung gilt auch in Programmiersprachen. Ihr könnt runde Klammern verwenden, um die Reihenfolge der Auswertung zu bestimmen, z.B. `2 * (x + 10)`.\n",
    "\n",
    "_Hinweis 2_: Genauso, wie ihr einer Variablen Zahlenwerte zuweisen könnt, könnt ihr ihr auch Strings zuweisen.\n",
    "\n",
    "_Hinweis 3_: Python unterstützt natürlich auch Komma-Zahlen. Allerdings wird die Komma-Stelle durch einen Punkt dargestellt: also 2.5 statt 2,5.\n",
    "\n",
    "**Eure Aufgabe**: Berechnet im folgenden Code-Feld den Flächeninhalt eines Kreises mit dem Radius 4.2, indem ihr zunächst eine Variable `r` definiert und ihr diesen Wert zuweist. Berechnet im nächsten Schritt dann die Flächeninhalt durch Anwendung der richtigen Formel. Weist das Ergebnis ebenfalls einer neuen Variable zu und gebt den Inhalt der Ergebnisvariable aus.\n",
    "Für die Kreiszahl pi könnt ihr näherungsweise 3.14 verwenden.\n",
    "Setzt andere Werte für `r` ein und beobachtet, wie sich das Ergebnis beim erneuten Ausführen der Zelle verhält.\n",
    "\n",
    "Danach: Experimentiert auch mit String-Variablen: Was passiert, wenn ihr der Funktion `print` eine Variable übergebt, die einen String oder eine Zahl enthält?"
   ]
  },
  {
   "cell_type": "code",
   "execution_count": null,
   "metadata": {
    "collapsed": true,
    "id": "-O5MJO1mkO-Q"
   },
   "outputs": [],
   "source": [
    "# Berechnung des Flächeninhalts aus dem Radius\n",
    "\n"
   ]
  },
  {
   "cell_type": "markdown",
   "metadata": {
    "id": "avsfD4IYl36J"
   },
   "source": [
    "## Aufgabe 3: Wahr/Falsch und Vergleiche\n",
    "Zahlen und Zeichenketten (Strings) habt ihr nun schon kennengelernt. Für viele Programme ist es zudem wichtig ausdrücken zu können, dass eine bestimmte Eigenschaft zutrifft oder nicht. Hierzu ist es möglich, sogegannte **boolean-Werte** (Wahrheitswerte) zu verwenden.\n",
    "\n",
    "Diese **boolean-Werte** können die Werte `True` (wahr) und `False` (falsch) annehmen. Für ein medizinisches Beispiel möchten wir im folgenden kodieren, ob eine bestimmte Untersuchung schon durchgeführt wurde:\n"
   ]
  },
  {
   "cell_type": "code",
   "execution_count": null,
   "metadata": {
    "collapsed": true,
    "id": "BEx7PaW34LaT"
   },
   "outputs": [],
   "source": [
    "# Boolean Werte in Variablenzuweisung\n",
    "untersuchung_durchgefuehrt = False\n",
    "print(\"Untersuchung durchgeführt?\")\n",
    "print(untersuchung_durchgefuehrt)  # Ausgabe\n",
    "\n",
    "# ... Zeit vergeht ... die Untersuchung wird gemacht\n",
    "\n",
    "untersuchung_durchgefuehrt = True\n",
    "print(\"Untersuchung jetzt durchgeführt?\")\n",
    "print(untersuchung_durchgefuehrt) # Ausgabe"
   ]
  },
  {
   "cell_type": "markdown",
   "metadata": {
    "id": "MAYrY-hQ6YVj"
   },
   "source": [
    "Geht die Zeilen nochmal Schritt für Schritt durch und überlegt, was jeweils passiert. Denkt dran: Bei Fragen immer Bescheid geben! \n",
    "\n",
    "Wir haben jetzt also die Möglichkeit, Wahrheitswerte zu kodieren. Das brauchen wir auch, um das Ergebnis von **Vergleichen** abzuspeichern.\n",
    "\n",
    "Wir können z.B. Zahlenwerte vergleichen: Ist Zahl `a` größer als Zahl `b`? Hierfür können wir die Symbole `>` (größer) bzw. `<` (kleiner) verwenden.\n",
    "Auf Gleichheit kann mit `==` getestet werden, während mit `>=` und `<=` auf \"größer gleich\" und \"kleiner gleich\".  \n",
    "\n",
    "Genauso könnt ihr auch Strings miteinander vergleichen.\n",
    "\n",
    "_Hinweis 1_: Achtung: Das doppelte Gleichzeichen `==` ist der Vergleich, während `=` die Zuweisung ist! \n",
    "\n",
    "**Eure Aufgabe**: Probiert Vergleiche zwischen unterschiedlichen Zahlen aus, speichert die Ergebnisse ggf. in Variablen ab und lasst euch die Ergebnisse ausgeben. Macht das Gleiche für ein paar Strings. Entsprechen die Ergebnisse euren Erwartungen?\n",
    "\n",
    "Was passiert, wenn ihr \"Apfel\" und \"apfel\" vergleicht?   \n",
    "Habt ihr eine Idee warum? Tipp: Gebt in mal in eine Suchmaschine die Stichworte ASCII oder Unicode ein.\n",
    "\n",
    "Warum ergibt `42 == \"42\"` `False`? \n",
    "\n",
    "**Wenn ihr ein wenig herumexperiment habt, fragt ruhig nach einem/einer Tutor\\*in, der/die die Ergebnisse kurz mit euch durchsprechen kann.**\n"
   ]
  },
  {
   "cell_type": "code",
   "execution_count": null,
   "metadata": {
    "collapsed": true,
    "id": "qXRZXX1z6VPr"
   },
   "outputs": [],
   "source": [
    "# Vergleiche zwischen Zahlen\n",
    "\n",
    "\n",
    "# Vergleiche zwischen Strings\n",
    "\n",
    "\n",
    "# Zahlen UND Strings\n",
    "\n"
   ]
  },
  {
   "cell_type": "markdown",
   "metadata": {
    "id": "JTwufk39mNTK"
   },
   "source": [
    "## Aufgabe 4: Wenn-Dann-Sonst-Anweisungen\n",
    "Je nach dem wie viel Erfahrung ihr schon mit dem Programmieren habt, seid ihr jetzt wahrscheinlich schon ein wenig am Programmieren - Als Informatiker*innen sitzt man viel am Rechner - deshalb ist es wichtig, zwischendurch mal aufzustehen und sich zu strecken - Auf geht's ;)\n",
    "\n",
    "Bisher haben wir nur Variablenzuweisungen und Berechnungen behandelt. Um ein komplettes Programm zu schreiben, brauchen wir aber noch komplexere Statements (Programanweisungen).\n",
    "\n",
    "Eine Anweisung, die wir häufig benötigen, ist die sog. \"if\"-Anweisung (Wenn-Dann-Anweisung) - sie ermöglicht, eine bestimmte folgende Anweisung nur dann auszuführen, wenn eine bestimmte Bedingung erfüllt ist.\n",
    "\n",
    "Schauen wir uns den Aufbau und den Effekt direkt an einem Beispiel an:"
   ]
  },
  {
   "cell_type": "code",
   "execution_count": null,
   "metadata": {
    "collapsed": true,
    "id": "is-ugLO17-9U"
   },
   "outputs": [],
   "source": [
    "# Die if-Anweisung\n",
    "alter = 16\n",
    "if alter < 18:\n",
    "  print(\"Der/die Patient*in ist noch nicht volljährig.\")\n",
    "  \n",
    "print(\"Bitte ins Wartezimmer setzen.\")"
   ]
  },
  {
   "cell_type": "markdown",
   "metadata": {
    "id": "KWhTnUFt-gFS"
   },
   "source": [
    "Bei diesem Beispiel überprüfen wir also, ob ein Patient volljährig ist oder nicht. Falls dies nicht der Fall ist, wird eine entsprechende Nachricht ausgegeben. Die Syntax lautet  \n",
    "```\n",
    "if \<Bedingung>:  \n",
    "  <Anweisung 1>  \n",
    "  ...  \n",
    "  <Anweisung n>  \n",
    "```\n",
    "\n",
    "Wichtig: Bei Python spielt die Formatierung des Codes eine große Rolle. Für die if-Anweisung muss nach der Bedingung ein Doppelpunkt folgen. Die Anweisungen, die nur ausgeführt werden, wenn die Bedingung zutrifft, müssen mit Leerzeichen eingerückt werden. Typischerweise verwenden wir 2 oder 4 Leerzeichen.\n",
    "\n",
    "Folgende Anweisungen, die anschließend wieder unabhängig von der if-Anweisung ausgeführt werden sollen, sind dann wiederum nicht eingerückt.\n",
    "\n",
    "Wir können die \"Wenn-Dann\"-Anweisung auch mit einem \"Sonst\"-Anweisung (Else-Statement) ergänzen."
   ]
  },
  {
   "cell_type": "code",
   "execution_count": null,
   "metadata": {
    "collapsed": true,
    "id": "2ZQQhZaJB_ah"
   },
   "outputs": [],
   "source": [
    "# Die if-Anweisung\n",
    "if alter < 18:\n",
    "  print(\"Der/die Patient*in ist noch nicht volljährig.\")\n",
    "else: \n",
    "  print(\"Der/die Patient*in ist volljährig.\")\n",
    "\n",
    "print(\"Bitte ins Wartezimmer setzen.\")"
   ]
  },
  {
   "cell_type": "markdown",
   "metadata": {
    "id": "BV-dZHtbCXEP"
   },
   "source": [
    "Jetzt bekommen wir in beiden Fällen eine Ausgabe. Die Einrückung ist hier auch wichtig. Wie ihr seht, können wir die Variable `alter` verwenden, obwohl wir sie nur in der vorigen Zelle definiert haben - die Variablen bleiben also über Zellengrenzen gültig.\n",
    "\n",
    "Wenn es mehr als zwei Fälle zu unterscheiden gibt, könnt ihr das Konstrukt `if-elif-else` zu verwenden.\n",
    "\n",
    "Es ist auch möglich, If-Else-Anweisungen zu schachteln: "
   ]
  },
  {
   "cell_type": "code",
   "execution_count": null,
   "metadata": {
    "collapsed": true,
    "id": "Rp-XTIZUCWms"
   },
   "outputs": [],
   "source": [
    "# Die if-Anweisung\n",
    "alter = 10\n",
    "if alter < 18:\n",
    "  print(\"Der/die Patient*in ist noch nicht volljährig.\")\n",
    "  if alter < 6:\n",
    "    print(\"Jünger als 6 Jahre\")\n",
    "  elif alter < 10:\n",
    "    print(\"Zwischen 6 und 10 Jahren\")\n",
    "  else:\n",
    "    print(\"Zwischen 10 und 18 Jahren\")\n",
    "else: \n",
    "  print(\"Der/die Patient*in ist volljährig.\")\n",
    "\n",
    "print(\"Bitte ins Wartezimmer setzen.\")"
   ]
  },
  {
   "cell_type": "markdown",
   "metadata": {
    "id": "8WtP5TztEGoR"
   },
   "source": [
    "Schaut euch das obige Beispiel an und setzt verschiedene Werte für die Variable `alter`, um die Funktionsweise besser zu verstehen. Wenn ihr soweit seid, versucht selbst einen kleinen Programm-Ablauf zu schreiben.\n",
    "\n",
    "**Eure Aufgabe**: Schreibt in der folgenden Zelle Anweisungen, die überprüfen, ob `d` durch `2`, durch `4` oder durch `3` ohne Rest teilbar ist und gebt jeweils eine entsprechende Nachricht aus. Da `2` ein Teiler von `4` ist, gebt hier nur entweder die eine *oder* die andere Nachricht aus. Probiert aus, ob euer Code für verschiedene Zahlen funktioniert.\n",
    "\n",
    "Um zu testen, ob eine Zahl ohne Rest teilbar ist, könnt ihr den Modulo-Operator `%` verwenden. Der Modulo-Operator gibt euch den \"Rest\" bei der Teilung von zwei Zahlen. Beispiele: `3 % 2` ergibt `1` und `6 % 3`  ergibt `0`.\n",
    "\n",
    "**Wenn ihr unsicher seid, ob eure Lösung stimmt, wendet euch gerne wieder an eine\\*n Tutor\\*in - wir brauchen die Lösung wieder in der nächsten Aufgabe.**"
   ]
  },
  {
   "cell_type": "code",
   "execution_count": null,
   "metadata": {
    "collapsed": true,
    "id": "fJHH9Q_QG7Pc"
   },
   "outputs": [],
   "source": [
    "# Ist die folgende Zahl durch 2, durch 3 bzw. durch 4 teilbar?\n",
    "d = 12\n",
    "\n",
    "# Hier folgt euer Code:\n"
   ]
  },
  {
   "cell_type": "markdown",
   "metadata": {
    "id": "Q_SbKQ1XlScx"
   },
   "source": [
    "## Aufgabe 5: Eigene Funktionen schreiben\n",
    "Mit der `print`-Funktion haben wir bereits eine Funktion kennengelernt. Funktionen dienen unter anderem dazu, Anweisungen zu bündeln und zu verhindern, dass man eine Folge von Anweisungen, die man häufig braucht, immer wieder neu schreiben muss.\n",
    "\n",
    "Schauen wir uns den Aufbau wieder an einem Beispiel an:"
   ]
  },
  {
   "cell_type": "code",
   "execution_count": null,
   "metadata": {
    "collapsed": true,
    "id": "1_MbIx6klR2N"
   },
   "outputs": [],
   "source": [
    "# einfache Funktion\n",
    "def add(a, b):\n",
    "  summe = a + b\n",
    "  print(\"Die Summe von a ({}) und b ({}) ist {}\".format(a, b, summe))\n",
    "\n",
    "add(7, 6)\n",
    "var_a = 8\n",
    "var_b = 8\n",
    "add(var_a, var_b)"
   ]
  },
  {
   "cell_type": "markdown",
   "metadata": {
    "id": "QrBHD_xKJCYU"
   },
   "source": [
    "Hier definieren wir eine Funktion `add`, die zwei Zahlen addiert und uns das Ergebnis auf dem Bildschirm zusammen mit einer Nachricht ausgibt. Für diese Nachricht haben wir sog. Formatierungs-Strings verwendet, um eine schön formatierte Ausgabe zu bekommen. Ihr könnt aber weiter bei einfachen `print`-Statements bleiben.\n",
    "\n",
    "Die Syntax für Funktionen lautet also\n",
    "```\n",
    "def <methodenname>(<parameter_1>, ..., <parameter_m>)\n",
    "  <Anweisung_1>\n",
    "  ...\n",
    "  <Anweisung_n>\n",
    "```\n",
    "\n",
    "Wie bei den if-else-Anweisungen ist hier die Einrückung wichtig.\n",
    "\n",
    "Zudem ist es möglich, dass eine Methode einen Wert zurück gibt. Hierfür gibt es die `return`-Anweisung. Im Falle der `add`-Methode wollen wir vielleicht das Ergebnis der Addition im folgenden weiterverwenden. Das können wir dann wie folgt machen:"
   ]
  },
  {
   "cell_type": "code",
   "execution_count": null,
   "metadata": {
    "collapsed": true,
    "id": "t1XJ51wqK0c_"
   },
   "outputs": [],
   "source": [
    "# einfache Funktion mit Rückgabewert\n",
    "def add(a, b):\n",
    "  summe = a + b\n",
    "  return summe\n",
    "\n",
    "ergebnis = add(7, 6)\n",
    "ergebnis"
   ]
  },
  {
   "cell_type": "markdown",
   "metadata": {
    "id": "nqn2trW2LRfL"
   },
   "source": [
    "Schaut euch die beiden Beispiele wieder genau an, bevor ihr weitermacht. Der Große Vorteil von Funktionen ist, dass ihr diese, wenn sie einmal definiert sind, an beliebigen Stellen weiterverwenden könnt.\n",
    "\n",
    "**Eure Aufgabe**: Schaut euch den Teilbar-Code aus der vorigen Aufgabe nochmal an und formuliert ihn als Funktion. Als Hilfestellung ist ein Code-Gerüst vorgegeben, dass ihr noch füllen müsst.\n",
    "Gebt zurück, ob der Eingabewert zumindest durch alle drei Zahlen teilbar ist."
   ]
  },
  {
   "cell_type": "code",
   "execution_count": null,
   "metadata": {
    "collapsed": true,
    "id": "tjmKGtPaLQq3"
   },
   "outputs": [],
   "source": [
    "# Funktion, die berechnet, ob eine Zahl durch 4, durch 2 und / oder durch 3 teilbar ist\n",
    "def ist_teilbar(zahl):\n",
    "  hat_alle_teiler = False\n",
    "  # hier kommen eure Anweisungen\n",
    "  \n",
    "  \n",
    "  return hat_alle_teiler\n",
    "\n",
    "\n",
    "print(\"Ist 12 durch 2, 3 und 4 teilbar? {}\".format(ist_teilbar(12))) # sollte True ergeben\n",
    "print(\"Ist 14 durch 2, 3 und 4 teilbar? {}\".format(ist_teilbar(14))) # sollte False ergeben\n",
    "print(\"Ist 7 durch 2, 3 und 4 teilbar? {}\".format(ist_teilbar(7))) # sollte False ergeben\n"
   ]
  },
  {
   "cell_type": "markdown",
   "metadata": {
    "id": "K6zkzLRknDJj"
   },
   "source": [
    "## Aufgabe 6: Listen und Tupel\n",
    "\n",
    "Manchmal sind die Werte, die wir abspeichern wollen, etwas komplexer als einfach nur Einzelwerte. Zum Beispiel möchten wir vielleicht eine Liste von Namen zusammen abspeichern (und nicht jeden Namen einzeln), oder z.B. 2-D Koordinaten in einem Bild oder in einem Graphen. \n",
    "\n",
    "Hierzu hat die Programmiersprache Python einige sinnvolle zusätzliche Variablentypen für uns: Listen und Tupel.\n",
    "\n",
    "Listen können wir mithilfe von eckigen Klammern `[...]`  anlegen.\n",
    "\n",
    "Schaut euch die folgenden zwei Beispiele kurz an:"
   ]
  },
  {
   "cell_type": "code",
   "execution_count": null,
   "metadata": {
    "collapsed": true,
    "id": "dRvs6PAC4SKy"
   },
   "outputs": [],
   "source": [
    "my_first_list = [1, 7, 5]\n",
    "my_second_list = [\"Mathe\", \"Deutsch\", \"Geschichte\", \"Englisch\"]\n",
    "\n",
    "print(my_first_list)\n",
    "print(my_second_list)"
   ]
  },
  {
   "cell_type": "markdown",
   "metadata": {
    "id": "4tA9EoOA4rzF"
   },
   "source": [
    "Hier haben wir zwei Listen erstellt: Eine mit ausschließlich Zahlen und eine, die nur Strings enthält. Ihr könnt aber die sog. Datentypen auch mischen.\n",
    "\n",
    "_Hinweis_: Weil der Aufruf `list` von der Programmiersprache Python selbst verwendet wird, solltet ihr eure Variablen nicht so nennen. Ähnliches gilt für die sog. Keywords wie z.B. `True`, `False` und `def`.\n",
    "\n",
    "Ihr könnt Elemente an eine Liste anfügen bzw. Listen kombinieren, in dem ihr den `+` Operator verwendet:"
   ]
  },
  {
   "cell_type": "code",
   "execution_count": null,
   "metadata": {
    "collapsed": true,
    "id": "UgYZwaeV5qCo"
   },
   "outputs": [],
   "source": [
    "my_third_list = my_first_list + [8]\n",
    "\n",
    "my_forth_list = my_first_list + my_second_list\n",
    "\n",
    "print(my_first_list)\n",
    "print(my_third_list)\n",
    "print(my_forth_list)"
   ]
  },
  {
   "cell_type": "markdown",
   "metadata": {
    "id": "ECVUirUN9MFn"
   },
   "source": [
    "Ihr könnt auf bestimmte Elemente in einer Liste zugreifen, in dem ihr den Index, also die Position in der Liste bzw. im Tupel angebt. Hierfür könnt ihr wieder eckige Klammern verwenden:\n",
    "\n"
   ]
  },
  {
   "cell_type": "code",
   "execution_count": null,
   "metadata": {
    "collapsed": true,
    "id": "wlFcfjBk9slq"
   },
   "outputs": [],
   "source": [
    "eintrag = my_second_list[2]\n",
    "\n",
    "print('Komplette Liste: ', my_second_list)\n",
    "print('Einzelner Eintrag an Pos. 2: ', eintrag)"
   ]
  },
  {
   "cell_type": "markdown",
   "metadata": {
    "id": "s0oJjcLU9pvN"
   },
   "source": [
    "Jetzt wundert ihr euch vielleicht, warum gerade der Eintrag gekommen ist, obwohl der doch an der 3. Position steht. Das hat aber seine Richtigkeit.\n",
    "Informatiker*innen sind eben doch ein komisches Volk und fangen typischerweise bei 0 an zu zählen ;) Das hat damit zu tun, wie Variablen & Listen im Rechner abgespeichert werden.\n",
    "\n",
    "Ihr seht hier noch eine weitere Art, Textausgaben zu schreiben, indem ihr dem `print`-Stetement einfach zwei (oder mehr) Werte bzw. Variablen übergebt. \n",
    "\n",
    "**Eure Aufgabe**: Erzeugt eine Liste z.B. mit euren Lieblingsspeisen. Versucht, auf einzelne Elemente zuzugreifen und den Inhalt auszugeben. Was passiert, wenn ihr versucht auf eine Position zuzugeifen, die größer ist als die Anzahl der Elemente in der Liste?\n",
    "\n",
    "**(\\*\\*)-Aufgabe**: Mit der Funktion `len(parameter)` könnt ihr euch die einer Liste zurück geben lassen. Schreibt eine Funktion `get_entry(my_list, position)`, die überprüft, ob die Position gültig ist und nur in diesem Fall den Eintrag zurück gibt. Wenn die Position ungültig ist, gebt nichts zurück.\n",
    "Achtung: Die Länge der Liste ist immer eins größer als die letzte Position in der Liste!"
   ]
  },
  {
   "cell_type": "code",
   "execution_count": null,
   "metadata": {
    "collapsed": true,
    "id": "zGyy6qQ_9LVu"
   },
   "outputs": [],
   "source": [
    "# Platz für euren Code:"
   ]
  },
  {
   "cell_type": "markdown",
   "metadata": {
    "id": "40l0Xp4N5oPv"
   },
   "source": [
    "### Tupel (**)\n",
    "Ganz ähnlich wie Listen funktionieren die sog. Tupel, allerdings mit dem Unterschied, dass Tupel eine feste Länge haben.\n",
    "Statt eckigen Klammern nutzen wir für Tupel runde Klammern:"
   ]
  },
  {
   "cell_type": "code",
   "execution_count": null,
   "metadata": {
    "collapsed": false,
    "id": "_hruI4hb4oFl"
   },
   "outputs": [],
   "source": [
    "my_first_tuple = (2, 3, 5)\n",
    "my_second_tuple = (\"Python\", \"Programmiersprache\", 0)\n",
    "\n",
    "print(my_first_tuple)\n",
    "print(my_second_tuple)\n",
    "print(my_second_tuple[1])\n"
   ]
  },
  {
   "cell_type": "markdown",
   "metadata": {},
   "source": [
    "Der Zugriff auf ein bestimmtes Element funktioniert allerdings wiederum mit eckigen Klammern `[]`.\n",
    "\n",
    "**Eure Aufgabe** (\\*\\*): Erstellt Tupel, die euen Namen, eure Alter und eure Klasse enthalten. Schreibt dann eine Funktion pretty_print, der Euch einen Text ausgibt zum Beispiel in der Form \"Mein Name ist ... und ich bin ... Jahre alt. Derzeit besuche ich die ... Klasse.\" Habt ihr eine Idee, wie ihr das mit den Formatierungsstrings umsetzen könnt?"
   ]
  },
  {
   "cell_type": "code",
   "execution_count": null,
   "metadata": {
    "collapsed": false
   },
   "outputs": [],
   "source": [
    "# Platz für euren Code\n",
    "def pretty_print(input_tuple):\n",
    "    # Anweisungen in der Funktion\n",
    "    \n",
    "# Platz für eure Tupel und den Aufruf der Funktion\n"
   ]
  },
  {
   "cell_type": "markdown",
   "metadata": {},
   "source": [
    "# Teil 2: Medizinische Bildverarbeitung\n",
    "\n",
    "**Achtung: Stellt sicher, dass dir die zusätzlichen Bilddaten in dem dafür vorgesehenen Ordner liegen.**"
   ]
  },
  {
   "cell_type": "code",
   "execution_count": null,
   "metadata": {
    "collapsed": true
   },
   "outputs": [],
   "source": [
    "# Führt die folgende Zelle einmal aus, um alle Bibliotheken zu laden, die für den folgenden Abschnitt gebraucht werden.\n",
    "%matplotlib inline \n",
    "from matplotlib import pyplot as plt\n",
    "import matplotlib.image as mpimg\n",
    "\n",
    "import pydicom\n",
    "\n",
    "from scipy import ndimage\n",
    "import numpy as np"
   ]
  },
  {
   "cell_type": "markdown",
   "metadata": {
    "id": "JC4fOVkCnhUx"
   },
   "source": [
    "## Aufgabe 7: Das erste Bild\n",
    "Im zweiten Teil dieser Einführung wollen wir uns anschauen, wie man mit Bildern umgeht und die Erkenntnisse, die wir eben im Vortrag schon durchgesprochen haben, nochmal praktisch umsetzen. Später möchten wir auch insbesondere mit medizinischen Bildern arbeiten. Hierzu müssen wir diese Bilder erstmal in unser Programm laden.\n",
    "\n",
    "Bevor wir das tun: Wie ist so ein (Digital-)Bild eigentlich aufgebaut? Ihr habt sicher schonmal von _Pixeln_ gehört, z.B. als Mega-Pixel Beschreibung von Kameras. Diese Pixel sind die einzelnen Elemente, aus denen so ein Bild aufgebaut ist. \n",
    "\n",
    "![Images and Pixels](./data/cat_pixels.png)\n",
    "\n",
    "In der Grafik oben seht ihr einen vergrößteren Ausschnitt aus dem Bild. Es ist zu erkennen, dass das Bild aus vielen einzelnen Quadraten besteht, die auf einem gleichmäßigen Gitter angeordnet sind. \n",
    "\n",
    "Diese Gitter können wir mit sog. Arrays darstellen. Arrays kann man auch als eine Form von mehrdimensionalen Listen auffassen. Um diese mehrdimensionalen Listen bequem zu verarbeiten und darzustellen, benutzen wir sog. Bibliotheken, die bestimmte Funktionalitäten für uns bündeln.\n",
    "\n",
    "Im Folgenden werden wir die Bibliothek matplotlib verwenden, dass uns eine Reihe von Funktionen für die Bildverarbeitung liefert. Wir können auf diese Funktionen zugreifen, wenn wir die Bibliotek mit `import` mit in unser Program laden.\n",
    "\n",
    "Im nächsten Beispiel laden wir ein Bild und schauen es uns genauer an.\n",
    "Erinnerung: Ihr könnt eine Zelle ausführen, indem ihr auf den Run-Button drückt oder mit `Strg + Eingabe`, nachdem ihr in das Code-Feld geklickt habt."
   ]
  },
  {
   "cell_type": "code",
   "execution_count": null,
   "metadata": {
    "collapsed": false,
    "id": "5yE_95C6YF9G"
   },
   "outputs": [],
   "source": [
    "# Einbinden von Bibliotheken und Settings. Das müssen wir nur 1x machen - wie bei Variablen gelten diese für den Rest des Notebooks.\n",
    "%matplotlib inline \n",
    "from matplotlib import pyplot as plt\n",
    "import matplotlib.image as mpimg\n",
    "\n",
    "img = mpimg.imread(\"./data/cat.jpg\")\n",
    "plt.imshow(img)\n",
    "plt.show()"
   ]
  },
  {
   "cell_type": "markdown",
   "metadata": {
    "id": "mJWjT-1k16S_"
   },
   "source": [
    "Wir haben jetzt also ein Bild geladen und angezeigt. Die Koordinatenachsen gehören nicht mit zum Bild, sondern werden von unserem Anzeigeprogramm dazugemalt. Wir können an den Achsen die Größe des Bildes ablesen.\n",
    "\n",
    "Als nächsten wollen wir uns etwas genauer anschauen, wie genau dieses Bild aufgebaut ist.\n",
    "\n",
    "Wir wollen als nächstes die Größe des Bildes wissen. Hierfür können wir das Attribute `shape` benutzen. Attribute sind Eigenschaften, die den Werten oder genauer Objekten zugeordnet sind. Je nach dem welchen Typ eine bestimmte Variable hat, können verschiedene Attribute zur Verfügung stehen.\n",
    "\n",
    "Also schauen wir uns den `shape` des Bildes an:"
   ]
  },
  {
   "cell_type": "code",
   "execution_count": null,
   "metadata": {
    "collapsed": false,
    "id": "Rk9p8xnW23AG"
   },
   "outputs": [],
   "source": [
    "print(img.shape)"
   ]
  },
  {
   "cell_type": "markdown",
   "metadata": {
    "id": "qWqROQWO27H2"
   },
   "source": [
    "In diesem Tupel können wir die Höhe des Bildes (1000 px) und die Breite des Bildes (800 px) ablesen, wie auch von dem Koordinatensystem im oberen Bild erkennbar ist. Allerdings hat das Bild noch eine dritte Dimension.\n",
    "\n",
    "Die dritte Dimension steht für die sog. Farbkanäle: Rot-Grün-Blau.\n",
    "Im Vortrag eben haben wir schon kurz über RGB-Bilder gesprochen - ein digitales Farbbild ist typischerweise aus drei Farben zusammengesetzt.\n",
    "Das ist sinnvoll, denn Monitore bestehen aus roten, grünen und blauen Farbelementen, mit denen das Bild dargestellt wird: <br/>\n",
    "<br/>\n",
    "\n",
    "![Bildschirm-Pixel](https://upload.wikimedia.org/wikipedia/commons/thumb/4/4d/Pixel_geometry_01_Pengo.jpg/480px-Pixel_geometry_01_Pengo.jpg)  \n",
    "Bildquelle: Pengo (CC BY-SA 3.0), https://commons.wikimedia.org/w/index.php?curid=3430548\n",
    "<br/>\n",
    "<br/>\n",
    "\n",
    "Schauen wir uns zunächst so einen einzelnen 3-Kanal-Pixelwert an. Hierfür können wir wieder die gleiche Syntax wie zuvor verwenden:\n"
   ]
  },
  {
   "cell_type": "code",
   "execution_count": null,
   "metadata": {
    "collapsed": false,
    "id": "G6Z7L1O86crd"
   },
   "outputs": [],
   "source": [
    "pixelwert = img[500, 550]\n",
    "print(pixelwert)\n",
    "plt.imshow(pixelwert.reshape(1, 1, 3)) # hier verwenden wir einen kleinen Trick, um ein einzelnes Pixel als Bild darstellen zu können\n",
    "plt.axis(\"off\")  # hier wollen wir kein Koordinatensystem sehen\n",
    "plt.show()"
   ]
  },
  {
   "cell_type": "markdown",
   "metadata": {
    "id": "SSbddqCg6ynp"
   },
   "source": [
    "In dem Beispiel sehen wir einen Pixelwert von einem Pixel an der Stelle (500, 550), also aus dem rechten Auge der Katze. Diese hellblaue Farbe wird durch die Rot-Grün-Blau-Kombination `[161, 188, 217]` repräsentiert.\n",
    "\n",
    "**Zwischenaufgabe**: Ändert in obiger Zelle mal die Koordinaten, an denen der Pixelwert ausgelesen wird. Schaut wie sich sowohl die Zahlenwerte als auch die Farbe des Pixels ändert.\n",
    "\n",
    "Für jede der drei Grundfarben Rot-Grün-Blau ist also eine Intensität im Bild gespeichert. In diesem Fall steht der Wert 0 für die niedrigste Intensität und der Wert 255 für die höchste Farbintensität.\n",
    "Die einzelnen Farbkanäle sagen uns, dass das obige Bild besteht also eigentlich aus drei \"Einzelbildern\" besteht, die wir uns einzeln anschauen können.\n",
    "\n",
    "Hierzu verwenden wir einen Trick: Wir kopieren das Bild und setzen dann alle Farbkanäle auf 0, die wir nicht betrachten wollen. In diesem Beispiel schauen wir uns mal den blauen Farbkanal auf."
   ]
  },
  {
   "cell_type": "code",
   "execution_count": null,
   "metadata": {
    "collapsed": false,
    "id": "m7VzQB2E9Zq4"
   },
   "outputs": [],
   "source": [
    "img_eine_farbe = img.copy()\n",
    "img_eine_farbe[:, :, 0] = 0  # Hier setzen wir die Rot-Intensität auf 0. Mit : erreichen wir alle Pixel in der Höhe und Tiefe\n",
    "img_eine_farbe[:, :, 1] = 0  # Hier setzen wir die Grün-Intensität auf 0.\n",
    "\n",
    "plt.imshow(img_eine_farbe)\n",
    "plt.show()"
   ]
  },
  {
   "cell_type": "markdown",
   "metadata": {
    "id": "BiG1zlfg-Au3"
   },
   "source": [
    "**Zwischenaufgabe**: Wie könnt ihr das Beispiel oben so anpassen, dass nur der grünen bzw. nur der roten Farbkanal angezeigt wird? (Erinnerung: Die drei Kanäle stehen für Rot-Grün-Blau und Informatiker*innen starten mit dem Zählen bei 0). Fällt euch was z.B. an der Katzennase auf?\n",
    "\n",
    "**Eure Aufgabe**: Wir haben euch noch ein zweites Bild mit dem Dateipfad `\"./data/dog.jpg\"` in den Datenordner gelegt. Schaut euch im Code oben nochmal an, wie man ein Bild lädt und zeigt euch das Bild einmal normal an. Schaut euch dann die Größe des Bildes und die Pixelwerte an unterschiedlichen Stellen an. Was beobachtet ihr? Wie unterscheiden sich die einzelnen Farbkanäle?"
   ]
  },
  {
   "cell_type": "code",
   "execution_count": null,
   "metadata": {
    "collapsed": true,
    "id": "LtnTDZCZAOQm"
   },
   "outputs": [],
   "source": [
    "# Euer Code um das Bild zu laden (siehe z.B. oben)\n",
    "\n",
    "\n",
    "# Euer Code um einen Pixelwert (oder einen ganzen Kanal (**)) anzuzeigen.\n",
    "\n"
   ]
  },
  {
   "cell_type": "markdown",
   "metadata": {
    "id": "N6yZRHRMGYWP"
   },
   "source": [
    "## Aufgabe 8: Einlesen von Medizinischen Daten\n",
    "Das letzte Bild war ein sogenanntes Graustufenbild. Für diese Bilder sind eigentlich keine drei Farbkanäle notwendig, da sich die Pixel nur in ihrer Helligkeit unterscheiden.\n",
    "\n",
    "Bei vielen medizinischen Modalitäten (=Aufnahmegeräte) werden Graustufenbilder erzeugt, z.B. in der Magnetresonanztomographie oder in der Computertomographie. Die erzeugten Daten werden dann in sog. DICOM-Dateien abgespeichert. Dieser Dateityp ist speziell für medizinische Daten gedacht, denn er enthält neben dem Bild noch viele zusätzliche Informationen, die im medizinischen Kontext wichtig sind, sog. Metainformationen. Darunter fällt zum Beispiel der/die behandelnde Arzt/Ärztin, der Aufnahmemodus und -zeitpunkt, das Alter der Patient*innen und viele weitere Informationen.\n",
    "\n",
    "Um diese Art von Bildern zu laden, brauchen wir wiederum eine spezielle Bibliothek:"
   ]
  },
  {
   "cell_type": "code",
   "execution_count": null,
   "metadata": {
    "collapsed": true,
    "id": "qa5PzSzBGg3F"
   },
   "outputs": [],
   "source": [
    "import pydicom"
   ]
  },
  {
   "cell_type": "markdown",
   "metadata": {
    "id": "cf7ALz-wNfeS"
   },
   "source": [
    "Mit dieser Bibliothek können wir nun DICOM-Dateien laden:"
   ]
  },
  {
   "cell_type": "code",
   "execution_count": null,
   "metadata": {
    "collapsed": false,
    "id": "K_lxIbqwNdDT"
   },
   "outputs": [],
   "source": [
    "dcm_data = pydicom.read_file(\"./data/MR_IMAGE.IMA\")\n",
    "dcm_data"
   ]
  },
  {
   "cell_type": "markdown",
   "metadata": {
    "id": "ngfC-qLpPy0j"
   },
   "source": [
    "Wenn wir das Bild ausgeben, werden uns diese ganzen Metainformationen also ausgegeben. Findet ihr in den Informationen das Alter, Geschlecht und Größe?\n",
    "\n",
    "Uns interessieren nun aber auch der Pixelinhalt. Hierzu müssen wir die entsprechenden Informationen aus den Daten herauspicken. In der letzten Zeile der Informationen gibt es einen Eintrag `Pixel Data` - an den wollen wir dran.\n",
    "\n",
    "Hierfür stellt uns das Bildobjekt ein spezielles Attibut zur Verfügung: `pixel_data`. \n",
    "\n",
    "\n",
    "**Zwischenaufgabe**: Dieses Attribut liefert euch ein Array, wie auch zuvor in der Aufgabe. Könnt ihr euch die Größe dieses Arrays anzeigen lassen? Stimmen die Werte mit den Einträgen in den Metainformationen überein? Tipp: Hier sind Höhe/Breite als Bildreihen (`rows`) und Bildspalten (`columns`) angeben."
   ]
  },
  {
   "cell_type": "code",
   "execution_count": null,
   "metadata": {
    "collapsed": true,
    "id": "nW7B-Q1MQqrV"
   },
   "outputs": [],
   "source": [
    "dcm_img = dcm_data.pixel_array"
   ]
  },
  {
   "cell_type": "markdown",
   "metadata": {
    "id": "vDsgudc4R5pK"
   },
   "source": [
    "Wenn ihr die Größe richtig angezeigt habt, seht ihr, dass diese Bilder keine Farbkanäle definiert haben. Es handelt sich also um Graustufen-Bilder. Schauen wir uns als nächsten an, wie diese Graustufenbilder aussehen.\n"
   ]
  },
  {
   "cell_type": "code",
   "execution_count": null,
   "metadata": {
    "collapsed": false,
    "id": "z44ppVrZRn7-"
   },
   "outputs": [],
   "source": [
    "plt.imshow(dcm_img, cmap='gray')  # wir nutzen den zusätzlichen Parameter cmap='gray' um zu verhindern dass uns das Bild in Falschfarben angezeigt wird.\n",
    "plt.show()"
   ]
  },
  {
   "cell_type": "markdown",
   "metadata": {
    "id": "0CIEHxN5SufU"
   },
   "source": [
    "Das Bild zeigt eine einzelne Schicht von einem MR-Bild vom Oberkörper einer Probantin. Es handelt sich hierbei um eine sog. Koronal- oder Frontalschicht:<br />\n",
    "<br />\n",
    "\n",
    "\n",
    "![Körperebenen](https://upload.wikimedia.org/wikipedia/commons/thumb/d/d6/Human_anatomy_Koerperebenen.svg/607px-Human_anatomy_Koerperebenen.svg.png)  \n",
    "Bildquelle: YassineMrabet (CC BY-SA 3.0), https://commons.wikimedia.org/w/index.php?curid=14709215\n",
    "<br />\n",
    "<br />\n",
    "\n",
    "**Eure Aufgabe**: Könnt ihr in dem MR-Bild einzelne Organe identifizieren? Schaut euch erneut an, was für Intensitätswerte in dem Bild enthalten sind. Welche Werte haben besonders helle Stellen? Welche Werte besonders dunkle? Tipp: Ihr könnt die Bildkoordinaten ungefähr an dem Koordinatensystem ablesen."
   ]
  },
  {
   "cell_type": "code",
   "execution_count": null,
   "metadata": {
    "collapsed": true,
    "id": "nGMrU_KdPxnq"
   },
   "outputs": [],
   "source": [
    "# Welche Organe könnt ihr erkennen? Schreibt diese in den Kommentar in die folgende Zeile:\n",
    "# ...\n",
    "\n",
    "\n",
    "# Euer Code um euch die Pixelintensitäten anzuzeigen."
   ]
  },
  {
   "cell_type": "markdown",
   "metadata": {
    "id": "rwwDAwuNG_-b"
   },
   "source": [
    "## Aufgabe 9: Filterungen: Glättung und Kantenfilter\n",
    "\n",
    "Denkt dran, zwischendrin mal wieder aufzustehen und euch zu strecken ;)\n",
    "\n",
    "In dem Vortrag eben haben wir bereits über sog. Filter geredet, die dazu verwendet werden können, um die Bilder zu verändern. Ein paar Beispiele wollen wir nun zum Abschluss dieser Programmierübung anwenden.\n",
    "\n",
    "Ein Bespiel ist der sog. genannte Gaußfilter. Mit dem Gaussfilter wird für jeden Bildpunkt ein gewichter Mittelwert der umliegenden Bildpunkte berechnet. Damit kann z.B. Rauschen reduziert werden. \n",
    "\n",
    "Um einen Gausfilter anzuwenden, verwenden wir wiederum eine andere Bibliothek: `scipy`. Hier steht uns ein `gaussian_filter` zur Verfügung.\n"
   ]
  },
  {
   "cell_type": "code",
   "execution_count": null,
   "metadata": {
    "collapsed": false,
    "id": "ZySGlmYaIKhD"
   },
   "outputs": [],
   "source": [
    "from scipy import ndimage  # ndimage ist ein sog. Modul in scipy, das wir im Folgenden verwenden.\n",
    "filtered_img = ndimage.gaussian_filter(dcm_img, 3)\n",
    "\n",
    "\n",
    "# Für die Anzeige und Darstellung\n",
    "fig = plt.figure(2, figsize=(15,15))  # Wir erzeugen hier jetzt einen speziellen Zeichnungsbereich, damit wir das Bild etwas größer anzeigen können\n",
    "plt.subplot(121)  # Diese Anweisung sorgt dafür, dass wir die zwei Bilder nebeneinander anzeigen können: (121 - Bildraster 1x2; nächstes Bild an 1. Stelle)\n",
    "plt.title(\"Original\")\n",
    "plt.imshow(dcm_img, cmap='gray')\n",
    "\n",
    "plt.subplot(122)  # nächstes Bild an 2. Stelle\n",
    "plt.title(\"Nach Gaußfilter\")\n",
    "plt.imshow(filtered_img, cmap='gray')\n",
    "plt.show()"
   ]
  },
  {
   "cell_type": "markdown",
   "metadata": {
    "id": "UmnqziZXZg8W"
   },
   "source": [
    "Wir ihr seht sorgt der Gaußfilter gleichzeitig für verwaschene bzw. unscharfe Kanten: Die deutlichen Intensitätsunterschiede, die normalerweise an Kanten zu finden sind, werden durch die Mittelung reduziert.\n",
    "\n",
    "Der Gaußfilter erhält zwei Eingaben (zwei Parameter): `ndimage.gaussian_filter(<input_img>, <nachbarschaft>)`\n",
    "\n",
    "`<input_img>` ist das Bild, das wir filtern wollen, und   \n",
    "`<nachbarschaft>` ist die Größe der Nachbarschaft in Pixeln, über die der Gaußfilter den Mittelwert berechnen soll. \n",
    "\n",
    "**Zwischenaufgabe**: Experimentiert in der vorigen Zelle mal mit unterschiedlichen Nachbarschaften. Was beobachtet ihr?"
   ]
  },
  {
   "cell_type": "markdown",
   "metadata": {
    "id": "yukDNYZkhZcX"
   },
   "source": [
    "Natürlich gibt es noch viele weitere Filter, mit denen ihr bestimmte Eigenschaften von Bildern verändern könnt, z.B. Median-Filter, Kantenfilter, etc. Im folgenden könnt ihr ein bisschen mit den unterschiedlichen Filtern herumexperimentieren.\n",
    "\n",
    "**Eure Aufgabe**: Auf der folgenden Internetseite findet ihr Beispiele von vielen unterschiedlichen Filtern und deren Effekt auf ein Foto: [Scipy: Image Filtering](http://scipy-lectures.org/advanced/image_processing/#image-filtering)\n",
    "\n",
    "Sucht euch ein paar Beispiele aus und passt den Code im nächsten Feld an, um den Effekt von unterschiedlichen Filtern auf unser medizinisches Bild zu beobachten.\n"
   ]
  },
  {
   "cell_type": "code",
   "execution_count": null,
   "metadata": {
    "collapsed": false,
    "id": "Kb5EClhChYnw"
   },
   "outputs": [],
   "source": [
    "# Setzt hier andere Filter ein oder ergänzt weitere Zeilen wie in den Beispielen, die ihr im Link findet.\n",
    "filtered_img = ndimage.gaussian_filter(dcm_img, 3)\n",
    "\n",
    "\n",
    "# Darstellung\n",
    "fig = plt.figure(2, figsize=(15,15))\n",
    "plt.subplot(121)\n",
    "plt.title(\"Original\")\n",
    "plt.imshow(dcm_img, cmap='gray')\n",
    "\n",
    "plt.subplot(122)  # nächstes Bild an 2. Stelle\n",
    "plt.title(\"Nach Filterung\")\n",
    "plt.imshow(filtered_img, cmap='gray')\n",
    "plt.show()"
   ]
  },
  {
   "cell_type": "markdown",
   "metadata": {},
   "source": [
    "## Aufgabe 10: Back to Basics: Schleifen-Anweisung\n",
    "\n",
    "Wir haben im ersten Teil schon viele Anweisungen der Programmiersprache Python kennengelernt. Um die nachfolgenden Aufgaben erfüllen zu können, wollen wir uns als nächste Anweisung noch die sog. Schleife (engl. loop) anschauen.\n",
    "Eine Schleife läuft automatisch über sämtliche Elemente in einer Liste bzw. in einem Array. Dadurch können bestimmte Operationen leicht vielfach - also auf jedes Element - ausgeführt werden.\n",
    "\n",
    "Schauen wir uns das doch direkt an einem Beispiel an:"
   ]
  },
  {
   "cell_type": "code",
   "execution_count": null,
   "metadata": {
    "collapsed": false
   },
   "outputs": [],
   "source": [
    "my_list = [\"Monday\", \"Tuesday\", \"Wednesday\", \"Thursday\", \"Friday\"]\n",
    "\n",
    "# Version 1\n",
    "for day in my_list:\n",
    "  print(\"Today is {}\".format(day))\n",
    "    \n",
    "# Version 2\n",
    "for i in range(len(my_list)):\n",
    "  print(\"Today is again {}\".format(my_list[i]))\n"
   ]
  },
  {
   "cell_type": "markdown",
   "metadata": {},
   "source": [
    "Schlüsseln wir diese Teilen mal auf: In der ersten Zeile legen wir zunächst eine Liste mit den Wochentagen an. Dann folgt der eigentliche `for`-Schleife:  \n",
    "Bei Version 1 kommt nach dem `for` zunächst eine Variable `day`. Durch das `for <laufvariable> in <liste>` kennzeichnen wir jetzt, dass `day` nacheinander jeden Wert in der Liste annehmen soll.\n",
    "\n",
    "In Version zwei kommt (fast) die gleiche Ausgabe, allerdings haben wir einen anderen Ansatz: Statt direkt durch die Listenelemente zu \"laufen\", erzeugen wir mit `range(len(my_list))` vereinfacht gesagt eine neue Liste, die alle möglichen Positionen (auch Indices genannt) enthält. Wenn wir uns den Inhalt von `i` mal direkt anschauen:"
   ]
  },
  {
   "cell_type": "code",
   "execution_count": null,
   "metadata": {
    "collapsed": false
   },
   "outputs": [],
   "source": [
    "for i in range(len(my_list)):\n",
    "  print(i)"
   ]
  },
  {
   "cell_type": "markdown",
   "metadata": {},
   "source": [
    "Zur Erinnerung: `len(<liste>)` gibt uns die Länge der Liste an. Anschließend erzeugt `range(n)` dann quasi eine Liste, die die Zahlen von `0` bis `n-1` enthält. Auch wieder zur Erinnerung: Das liegt wieder daran, dass Informatiker\\*innen bei 0 mit dem Zählen anfangen.\n",
    "\n",
    "Zur Zusammenfassung - die allgemeine Syntax lautet der `for`-Schleife so:\n",
    "```\n",
    "for <laufvariable> in <liste-oder-list-ähnliches>:\n",
    "  <Anweisung 1>\n",
    "  ...\n",
    "  <Anweisung n>\n",
    "```\n",
    "\n",
    "Nun wollen wir nicht nur über Listen, sondern auch über Arrays laufen. Hier haben wir jetzt allerdings zwei Dimensionen, denn wir können eine Position im Bild immer (nur) über zwei Koordinaten angeben. Das heißt hier brauchen wir auch zwei `for`-Schleifen. Mit `.shape` können wir uns die Länge der Dimensionen ausgeben.\n",
    "\n",
    "**Eure Aufgabe**: Im Folgenden haben wir ein kleines Bild mit schwarzen (Wert: 0) und weißen Pixeln (Wert = 255), das wie folgt ausschaut: ![Mini Herz](./data/mini_heart.png)\n",
    "\n",
    "Vervollständigt das folgende Code-Skelett so, dass ihr für jeden weißen Pixel einen Punkt (`\".\"`) und für jeden schwarzen Pixel einen Stern (`\"*\"`) ausgebt. Nutze statt der normalen `print`-Funktion jetzt die Variante `print(<text>, sep=\"\")` um einen `<text>` auszugeben - damit verhinderst du, dass nach dem Statement in die neue Zeile gesprungen wird."
   ]
  },
  {
   "cell_type": "code",
   "execution_count": null,
   "metadata": {
    "collapsed": false
   },
   "outputs": [],
   "source": [
    "heart = mpimg.imread(\"./data/mini_heart.png\")\n",
    "heart = heart[:, :, 0]  # wir brauchen nur einen Farbchannel\n",
    "\n",
    "dim_h, dim_b = heart.shape  # hiermit splitten wir den shape direkt in beide Dimensionen (Höhe und Breite) auf\n",
    "\n",
    "\n",
    "print(\"Bildgröße {}x{}\".format(dim_h, dim_b))\n",
    "\n",
    "\n",
    "for h in range(dim_h):\n",
    "    for b in range(dim_b):\n",
    "        # hier kommen deine Anweisungen hin, um . oder * zu printen (Tipp: Du wirst hier ein if-else-statement brauchen)\n",
    "\n",
    "        \n",
    "        pass  # Leerer Befehl, der nur dafür sorgt, dass du die Zelle ausführen kannst, wenn du noch nichts eingefüllt hast.\n",
    "\n",
    "    print()  # Sorgt dafür, dass nach jeder Bildzeile eine neue Zeile kommt. \n"
   ]
  },
  {
   "cell_type": "markdown",
   "metadata": {},
   "source": [
    "Wir können uns fast an die Segmentierung machen, allerdings müssen wir uns noch anschauen, wie man neue Werte mit einer Schleife in ein neues Array reinschreibt. \n",
    "\n",
    "Als erstes Beispiel wollen wir ein negativ von unserem Herz erzeugen. Hierzu legen wir zuerst ein komplett schwarzes Bild mit der Funktion `np.zero(shape)` an. Anschließend wollen wir alle Pixel, die vorher schwarz waren, jetzt weiß zeichnen und umgekehrt. Hierzu brauchen wir wieder zwei `for`-loops wie eben. Weil die Bilder gleich groß sind, können wir über beide gleichzeitig drüberlaufen.\n",
    "\n",
    "**Eure Aufgabe**:\n",
    "Sorgt in der folgenden Zelle dafür, dass die \"umgekehrten\" Werte (also 0 für weiß und 255 für schwarz) in das bisher komplett schwarze `heart_negative`-Array geschrieben werden. Ihr solltet dann das \"negativ\" sehen."
   ]
  },
  {
   "cell_type": "code",
   "execution_count": null,
   "metadata": {
    "collapsed": false
   },
   "outputs": [],
   "source": [
    "heart_negative = np.zeros((dim_h, dim_b))\n",
    "\n",
    "heart_negative[0, 0] = 0  # so könnt dem Array an einer bestimmten Position einen Wert zuweisen, hier jetzt am Beispiel 0, 0\n",
    "\n",
    "# Hier folgt dein Code:\n",
    "# Du kannst zwei For-Schleifen & ein if-else Statement verwenden - orientiere dich an dem Beispiel oben\n",
    "\n",
    "\n",
    "    \n",
    "# den folgenden Code kennt ihr schon von vorher:\n",
    "plt.figure(2, figsize=(5, 5))\n",
    "plt.subplot(121)\n",
    "plt.imshow(heart, cmap='gray')\n",
    "plt.title('original')\n",
    "\n",
    "plt.subplot(122)\n",
    "plt.imshow(heart_negative, cmap='gray')\n",
    "plt.title('negativ')\n",
    "plt.show()"
   ]
  },
  {
   "cell_type": "markdown",
   "metadata": {},
   "source": [
    "Ein klitzekleiner Hinweis am Rande: Bei Python sind Schleifen eigentlich verteufelt, weil es effizentere Möglichkeiten gibt, Arrays zu verarbeiten. Das muss uns im Moment aber nicht stören ;) "
   ]
  },
  {
   "cell_type": "markdown",
   "metadata": {},
   "source": [
    "## Aufgabe 11: Einfache Schwellwertsegmentierung\n",
    "\n",
    "Denkt dran, aufzustehen, euch mal wieder zu strecken und ein Glas Wasser zu tringen ;)\n",
    "\n",
    "In der nächsten Aufgabe geht es darum, das Gelernte  die Leber automatisch zu segmentieren. Hierzu möchten wir zunächst eine sogenannte Schwellwertsegmentierung durchführen. Hierbei werden alle Pixel zusammengenommen die innerhalb eines bestimmten Intensitätsbereiches liegen, also oberhalb von einem underen Schwellwert und unterhalb von einem oberen Schwellwert.\n",
    "\n",
    "Kurz zur Erinnerung schauen wir uns das MR-Bild nochmal an und überprüfen, welche Werte Farbwerte in der Leber vorkommen. Die Leber ist das dunkelgraue Organ links in der unteren Hälfte des Bildes:"
   ]
  },
  {
   "cell_type": "code",
   "execution_count": null,
   "metadata": {
    "collapsed": false
   },
   "outputs": [],
   "source": [
    "dcm_img = pydicom.read_file(\"data/MR_IMAGE.IMA\").pixel_array\n",
    "\n",
    "plt.imshow(dcm_img, cmap=\"gray\")\n",
    "plt.show()\n",
    "\n",
    "print(\"Beispielwerte für die Pixel innerhalb der Leber ca {}-{}\".format(dcm_img[175, 50], dcm_img[175, 100]))\n",
    "\n",
    "print(\"Niedrigster und höchste Werte im Bild: {}-{}\".format(np.min(dcm_img), np.max(dcm_img)))"
   ]
  },
  {
   "cell_type": "markdown",
   "metadata": {},
   "source": [
    "In der letzten Zeile haben wir uns die hellsten und die dunkelsten Werte angeschaut - wie ihr seht unterscheiden die sich recht deutlich von den Werten die in der Leber vorkommen. \n",
    "\n",
    "**Eure Aufgabe**: Schreibt in den folgenden Zeilen eine Schwellwertsegmentierung für das MR-Bild. Wie oben legen wir uns zunächst ein leeres Array (=eure Segmentierung) an, das genauso groß ist wie das Bild und das nur 0en enthält (wie oben). Lauft dann über das Bild und setzt in eurer Segmentierung alle Pixel auf 1, die innerhalb der beiden Werte liegen, die wir oben für die Leber angezeigt bekommen haben. Ihr könnt euch hierbei an dem Beispiel mit dem Herz von oben orientieren.\n",
    "\n",
    "Experimentiert anschließend ein wenig mit den Schwellwerten - was passiert?"
   ]
  },
  {
   "cell_type": "code",
   "execution_count": null,
   "metadata": {
    "collapsed": false
   },
   "outputs": [],
   "source": [
    "segmentierung = np.zeros(dcm_img.shape)\n",
    "\n",
    "# Macht als nächstes die eigentliche Segmentierung mit for-Scheifen und if-else-Statements\n",
    "\n",
    "\n",
    "\n",
    "\n",
    "\n",
    "# Anzeige - den folgenden Code kennt ihr schon von vorher:\n",
    "plt.figure(2, figsize=(12, 12))\n",
    "plt.subplot(121)\n",
    "plt.imshow(dcm_img, cmap='gray')\n",
    "plt.title('Eingabebild')\n",
    "\n",
    "plt.subplot(122)\n",
    "plt.imshow(segmentierung, cmap='gray') \n",
    "plt.title('Segmentierung')\n",
    "plt.show()"
   ]
  },
  {
   "cell_type": "markdown",
   "metadata": {},
   "source": [
    "In dem Bild seht ihr vielleicht, dass diese Segmentierung sehr verrauscht ist, also nicht wirklich schön das Organ alleine zeigt. Stattdessen fehlen Teile oder \"falsche\" Strukturen sind zu viel segmentiert, z.B. um die Schulter.\n",
    "\n",
    "Als allerletztes wollen wir uns noch ein Verfahren anschauen, dass etwas robuster ist: Das sogenannte **Region Growing** Verfahren. Im Grunde genommen basiert es ebenfalls auf dem Schwellwertverfahren. Der Trick ist jetzt allerdings, dass das Ganze von einem einzigen Start-Pixel ausgeht, dass die Segmentierung bildet. Dann werden Schritt für Schritt weitere \"ähnliche\" Pixel dazugenommen, also Pixel, die sich nur wenig den Pixelwerten unterscheiden, die bereits zur Segmentierung gehören.\n",
    "\n",
    "In der folgenden Zelle haben wir **Region Growing**-Algorithmus mal für euch vorbereitet. Experimentiert doch mal mit dem Startpunkt im Bild und mit dem Schwellwert für den Unterschied und beobachtet, was passiert."
   ]
  },
  {
   "cell_type": "code",
   "execution_count": null,
   "metadata": {
    "collapsed": false
   },
   "outputs": [],
   "source": [
    "%load_ext autoreload\n",
    "%autoreload 2\n",
    "from region_grow import regionGrow, Point\n",
    "\n",
    "start_punkte = [Point(175,50)]\n",
    "segmentierung = regionGrow(dcm_img, start_punkte, 5)  #\n",
    "\n",
    "# Anzeige - den folgenden Code kennt ihr schon von vorher:\n",
    "plt.figure(2, figsize=(12, 12))\n",
    "plt.subplot(121)\n",
    "plt.imshow(dcm_img, cmap='gray')\n",
    "plt.title('Eingabebild')\n",
    "\n",
    "plt.subplot(122)\n",
    "plt.imshow(segmentierung, cmap='gray') \n",
    "plt.title('Segmentierung')\n",
    "plt.show()"
   ]
  },
  {
   "cell_type": "markdown",
   "metadata": {},
   "source": [
    "# Zusatzaufgaben \n",
    "\n",
    "Wenn ihr ganz besonders schnell seid, sind hier noch ein paar weitere Experimente, die ihr durchführen könnt. Ihr braucht ihr keine bestimmte Reihenfolge einzuhalten, sondern könnt die Aufgaben in beliebiger Reihenfolge bearbeiten. \n",
    "\n",
    "Führt die nachfolgende Zeile einmal aus, damit sicher gestellt ist, dass alle notwenigen Bibliotheken eingebunden sind.\n",
    "\n",
    "Viel Spaß!"
   ]
  },
  {
   "cell_type": "code",
   "execution_count": null,
   "metadata": {
    "collapsed": true
   },
   "outputs": [],
   "source": [
    "%matplotlib inline \n",
    "from matplotlib import pyplot as plt\n",
    "import matplotlib.image as mpimg\n",
    "import numpy as np\n",
    "from scipy import ndimage\n",
    "import pydicom"
   ]
  },
  {
   "cell_type": "markdown",
   "metadata": {
    "id": "nO-ItPPxhy9K"
   },
   "source": [
    "**Zusatzaufgabe 1 (\\*\\*)**: Experimentiert im folgenden Feld auch nochmal mit deiner Graustufenversion des Katzenbildes von oben. Was fällt euch z.B. im Hinblick auf die Nachbarschaftsgrößen zwischen medizinischem Bild und Fotographie?"
   ]
  },
  {
   "cell_type": "code",
   "execution_count": null,
   "metadata": {
    "collapsed": true,
    "id": "GwsQfpx2iPY5"
   },
   "outputs": [],
   "source": [
    "def rgb2gray(rgb_img):   # wir nutzen eine kleine Hilfsfunktion, um das Farbbild in ein Graustufenbild umzuwandeln\n",
    "    return np.dot(rgb_img[...,:3], [0.2989, 0.5870, 0.1140]).astype(int)\n",
    "\n",
    "# Bild neu einlesen und in ein Graustufenbild umwandeln\n",
    "orig_img = mpimg.imread(\"./data/cat.jpg\")\n",
    "grayscale_img = rgb2gray(orig_img)\n",
    "\n",
    "\n",
    "# Setzt hier andere Filter ein oder ergänzt weitere Zeilen wie in den Beispielen, die ihr im Link findet.\n",
    "filtered_img = ndimage.gaussian_filter(grayscale_img, 3)\n",
    "\n",
    "\n",
    "# Darstellung\n",
    "fig = plt.figure(2, figsize=(15,15))\n",
    "plt.subplot(121)\n",
    "plt.title(\"Original\")\n",
    "plt.imshow(grayscale_img, cmap='gray')\n",
    "\n",
    "plt.subplot(122)  # nächstes Bild an 2. Stelle\n",
    "plt.title(\"Nach Filterung\")\n",
    "plt.imshow(filtered_img, cmap='gray')\n",
    "plt.show()"
   ]
  },
  {
   "cell_type": "markdown",
   "metadata": {},
   "source": [
    "**Zusatzaufgabe 2 (\\*\\*)**: Probiert doch mal aus, wie sich die Schwellwertsegmentierung bzw. der Ansatz zum Region Growing bei geglätteten Bildern verhält. Seht ihr einen Unterschied?"
   ]
  },
  {
   "cell_type": "code",
   "execution_count": null,
   "metadata": {
    "collapsed": true
   },
   "outputs": [],
   "source": [
    "# Hier ist Platz für euren Code"
   ]
  }
 ],
 "metadata": {
  "anaconda-cloud": {},
  "colab": {
   "collapsed_sections": [],
   "name": "Forscherinnencamp_v2.ipynb",
   "provenance": []
  },
  "kernelspec": {
   "display_name": "Python 3",
   "language": "python",
   "name": "python3"
  },
  "language_info": {
   "codemirror_mode": {
    "name": "ipython",
    "version": 3
   },
   "file_extension": ".py",
   "mimetype": "text/x-python",
   "name": "python",
   "nbconvert_exporter": "python",
   "pygments_lexer": "ipython3",
   "version": "3.7.8"
  }
 },
 "nbformat": 4,
 "nbformat_minor": 1
}
